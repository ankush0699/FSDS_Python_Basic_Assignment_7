{
 "cells": [
  {
   "cell_type": "code",
   "execution_count": 5,
   "metadata": {},
   "outputs": [],
   "source": [
    "# Name: Ankush Shukla   e-mail: ankushshukla0612@gmail.com \n",
    "# Python_Basic_Assignment_7"
   ]
  },
  {
   "cell_type": "code",
   "execution_count": 6,
   "metadata": {},
   "outputs": [],
   "source": [
    "#Question_1:   Create two int type variables, apply addition, subtraction, division and multiplications\n",
    "#              and store the results in variables. Then print the data in the following format by calling the\n",
    "#              variables:\n",
    "\n",
    "#              First variable is __ & second variable is __.\n",
    "#              Addition: __ + __ = __\n",
    "#              Subtraction: __ - __ = __\n",
    "#              Multiplication: __ * __ = __\n",
    "#              Division: __ / __ = __"
   ]
  },
  {
   "cell_type": "code",
   "execution_count": 7,
   "metadata": {},
   "outputs": [
    {
     "name": "stdout",
     "output_type": "stream",
     "text": [
      "First variable is 10 & second variable is 5.\n",
      "Addition: 10 + 5 = 15\n",
      "Subtraction: 10 - 5 = 5\n",
      "Multiplication: 10 * 5 = 50\n",
      "Division: 10 / 5 = 2.0\n"
     ]
    }
   ],
   "source": [
    "#Answer:\n",
    "\n",
    "# Creating two int type variables\n",
    "\n",
    "first_variable = 10\n",
    "second_variable = 5\n",
    "\n",
    "addition_result = first_variable + second_variable         #addition\n",
    "subtraction_result = first_variable - second_variable      #subtraction\n",
    "multiplication_result = first_variable * second_variable   #multiplication\n",
    "\n",
    "# Let's first check if the second variable is zero or not.\n",
    "\n",
    "if second_variable != 0:\n",
    "    division_result = first_variable / second_variable     #division\n",
    "else:\n",
    "    division_result = \"zero division error\"\n",
    "\n",
    "# Printing results in specified format\n",
    "\n",
    "print(f\"First variable is {first_variable} & second variable is {second_variable}.\")\n",
    "print(f\"Addition: {first_variable} + {second_variable} = {addition_result}\")\n",
    "print(f\"Subtraction: {first_variable} - {second_variable} = {subtraction_result}\")\n",
    "print(f\"Multiplication: {first_variable} * {second_variable} = {multiplication_result}\")\n",
    "print(f\"Division: {first_variable} / {second_variable} = {division_result}\")\n"
   ]
  },
  {
   "cell_type": "code",
   "execution_count": 8,
   "metadata": {},
   "outputs": [],
   "source": [
    "#Question_2:  What is the difference between the following operators:\n",
    "#             (i) ‘/’ & ‘//’\n",
    "#             (ii) ‘**’ & ‘^’"
   ]
  },
  {
   "cell_type": "code",
   "execution_count": 9,
   "metadata": {},
   "outputs": [
    {
     "data": {
      "text/plain": [
       "'\\n\\n(i)    \\'/\\' : This is a division operator and it results in float.\\n       \\'//\\': This is a floor division operator and it results in int value. This operator gives the quotient of division.\\n\\n(ii)   \\'**\\': This is a exponentiation operator. This is used to raise power to a number. \"2**3=8\"\\n       \\'^\\' : This is used for bitwise XOR operations on integers, not exponentiation.\\n\\n'"
      ]
     },
     "execution_count": 9,
     "metadata": {},
     "output_type": "execute_result"
    }
   ],
   "source": [
    "#Answer:   \n",
    "\n",
    "\"\"\"\n",
    "\n",
    "(i)    '/' : This is a division operator and it results in float.\n",
    "       '//': This is a floor division operator and it results in int value. This operator gives the quotient of division.\n",
    "\n",
    "(ii)   '**': This is a exponentiation operator. This is used to raise power to a number. \"2**3=8\"\n",
    "       '^' : This is used for bitwise XOR operations on integers, not exponentiation.\n",
    "\n",
    "\"\"\""
   ]
  },
  {
   "cell_type": "code",
   "execution_count": 10,
   "metadata": {},
   "outputs": [],
   "source": [
    "#Question_3:  List the logical operators."
   ]
  },
  {
   "cell_type": "code",
   "execution_count": 11,
   "metadata": {},
   "outputs": [],
   "source": [
    "#Answer: There are main three logical operators in python and they are \"and\", \"or\", \"not\"."
   ]
  },
  {
   "cell_type": "code",
   "execution_count": 12,
   "metadata": {},
   "outputs": [],
   "source": [
    "#Question_4: Explain right shift operator and left shift operator with examples."
   ]
  },
  {
   "cell_type": "code",
   "execution_count": 13,
   "metadata": {},
   "outputs": [],
   "source": [
    "#Answer:\n",
    "\n",
    "\"\"\"\n",
    "1. Right Shift Operator (`>>`):\n",
    "   - The right shift operator shifts the bits of an integer to the right by a specified number of positions.\n",
    "   - For each right shift by one position, the integer is divided by 2 (integer division).\n",
    "   - The rightmost bits are discarded, and the leftmost bits are filled with zeros.\n",
    " \"\"\"  \n",
    "   # Example:\n",
    "\n",
    "num = 16   # Binary value: 10000\n",
    "result = num >> 2\n",
    "# After right shifting by 2 positions, it becomes Binary value: 00100\n",
    "# Decimal value: 4\n",
    "   \n",
    "\"\"\"2. Left Shift Operator (`<<`):\n",
    "   - The left shift operator shifts the bits of an integer to the left by a specified number of positions.\n",
    "   - For each left shift by one position, the integer is multiplied by 2.\n",
    "   - The rightmost bits are filled with zeros, and the leftmost bits that are shifted out are discarded.\n",
    "\"\"\"\n",
    "   \n",
    "   \n",
    "num = 8    # Binary value: 1000\n",
    "result = num << 3\n",
    "# After left shifting by 3 positions, it becomes Binary value: 1000000\n",
    "# Decimal value: 64\n",
    "\n",
    "\n"
   ]
  },
  {
   "cell_type": "code",
   "execution_count": 14,
   "metadata": {},
   "outputs": [],
   "source": [
    "#Question_5:  Create a list containing int type data of length 15. Then write a code to check if 10 is\n",
    "#             present in the list or not."
   ]
  },
  {
   "cell_type": "code",
   "execution_count": 15,
   "metadata": {},
   "outputs": [
    {
     "name": "stdout",
     "output_type": "stream",
     "text": [
      "10 is present in the list.\n"
     ]
    }
   ],
   "source": [
    "#Answer:\n",
    "\n",
    "# Creating a list of int type data\n",
    "\n",
    "my_list = [1,2,3,4,5,6,7,8,9,10,11,12,13,14,15]\n",
    "\n",
    "#Checking for 10\n",
    "\n",
    "if 10 in my_list:\n",
    "    print(\"10 is present in the list.\")\n",
    "else:\n",
    "    print(\"10 is not present in the list.\")\n"
   ]
  }
 ],
 "metadata": {
  "kernelspec": {
   "display_name": "base",
   "language": "python",
   "name": "python3"
  },
  "language_info": {
   "codemirror_mode": {
    "name": "ipython",
    "version": 3
   },
   "file_extension": ".py",
   "mimetype": "text/x-python",
   "name": "python",
   "nbconvert_exporter": "python",
   "pygments_lexer": "ipython3",
   "version": "3.11.4"
  }
 },
 "nbformat": 4,
 "nbformat_minor": 2
}
